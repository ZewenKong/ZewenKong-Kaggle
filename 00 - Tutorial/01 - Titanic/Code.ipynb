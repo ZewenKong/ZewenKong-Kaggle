{
 "cells": [
  {
   "cell_type": "code",
   "execution_count": 15,
   "metadata": {},
   "outputs": [],
   "source": [
    "import numpy as np # linear algebra\n",
    "import pandas as pd # data processing, CSV file I/O (e.g. pd.read_csv)\n",
    "from sklearn.ensemble import RandomForestClassifier"
   ]
  },
  {
   "cell_type": "code",
   "execution_count": 16,
   "metadata": {},
   "outputs": [],
   "source": [
    "train_data = pd.read_csv(\"/Users/Kaggle/Tutorial/01/File Provided/train.csv\")\n",
    "# train_data.head() # Look few samples .head()"
   ]
  },
  {
   "cell_type": "code",
   "execution_count": 17,
   "metadata": {},
   "outputs": [],
   "source": [
    "# train_data.head() # NaN -> missing value"
   ]
  },
  {
   "cell_type": "code",
   "execution_count": 18,
   "metadata": {},
   "outputs": [],
   "source": [
    "test_data = pd.read_csv(\"/Users/Kaggle/Tutorial/01/File Provided/test.csv\")"
   ]
  },
  {
   "cell_type": "code",
   "execution_count": 19,
   "metadata": {},
   "outputs": [],
   "source": [
    "women = train_data.loc[train_data.Sex == 'female'][\"Survived\"]\n",
    "# .loc - 在特定条件下选择行或列\n",
    "# \"Sex\" 列的值为 'female' 的行, 并从中提取了 \"Survived\" 列\n",
    "\n",
    "# OR can be written as\n",
    "# women = train_data[train_data.Sex == 'female'].Survived"
   ]
  },
  {
   "cell_type": "code",
   "execution_count": 20,
   "metadata": {},
   "outputs": [],
   "source": [
    "# women\n",
    "# sum(women) # number of survived women - adding women who survived\n",
    "# len(women) # number of women"
   ]
  },
  {
   "cell_type": "code",
   "execution_count": 21,
   "metadata": {},
   "outputs": [],
   "source": [
    "rate_women = sum(women)/len(women)\n",
    "# print(\"% of women who survived:\", rate_women)"
   ]
  },
  {
   "cell_type": "code",
   "execution_count": 22,
   "metadata": {},
   "outputs": [],
   "source": [
    "men = train_data[train_data.Sex == 'male'].Survived\n",
    "rate_men = sum(men)/len(men)\n",
    "# print(\"% of men who survived:\", rate_men)"
   ]
  },
  {
   "cell_type": "code",
   "execution_count": 23,
   "metadata": {},
   "outputs": [
    {
     "name": "stdout",
     "output_type": "stream",
     "text": [
      "% of women who survived: 0.7420382165605095\n",
      "% of men who survived: 0.18890814558058924\n"
     ]
    }
   ],
   "source": [
    "print(\"% of women who survived:\", rate_women)\n",
    "print(\"% of men who survived:\", rate_men)"
   ]
  },
  {
   "cell_type": "code",
   "execution_count": 24,
   "metadata": {},
   "outputs": [],
   "source": [
    "target = train_data[\"Survived\"]\n",
    "# print(target)\n",
    "\n",
    "features = [\"Pclass\", \"Sex\", \"SibSp\", \"Parch\"]\n",
    "# train_data[features]"
   ]
  },
  {
   "cell_type": "code",
   "execution_count": 25,
   "metadata": {},
   "outputs": [],
   "source": [
    "# convert string to number (False = 0, True = 1)\n",
    "X = pd.get_dummies(train_data[features]) # training_data\n",
    "X_test = pd.get_dummies(test_data[features]) # test"
   ]
  },
  {
   "cell_type": "code",
   "execution_count": 26,
   "metadata": {},
   "outputs": [],
   "source": [
    "# use RandomForest Model (clf -> classifier)\n",
    "model = RandomForestClassifier(n_estimators = 100, max_depth = 5, random_state = 1)\n",
    "# n_estimators = 100 -> the random forest will contain 100 decision trees (tress you have)\n",
    "# max_depth = 5 -> the maximum depth of each decision tree to 5 (how deep the tress are)\n",
    "# random_state = 1 -> value for the random number generator."
   ]
  },
  {
   "cell_type": "code",
   "execution_count": 27,
   "metadata": {},
   "outputs": [],
   "source": [
    "model.fit(X, target) # trains the model (model) using the training data (X) and the corresponding target values (target)\n",
    "predictions = model.predict(X_test) # the model (model) is used to predict the target values for the test data (X_test)"
   ]
  },
  {
   "cell_type": "code",
   "execution_count": 28,
   "metadata": {},
   "outputs": [
    {
     "name": "stdout",
     "output_type": "stream",
     "text": [
      "Successfully saved!\n"
     ]
    }
   ],
   "source": [
    "output = pd.DataFrame({'PassengerId': test_data.PassengerId, 'Survived': predictions})\n",
    "output.to_csv('my_submission.csv', index = False) # index = False -> donot want an index\n",
    "print(\"Successfully saved!\")"
   ]
  },
  {
   "cell_type": "code",
   "execution_count": null,
   "metadata": {},
   "outputs": [],
   "source": []
  }
 ],
 "metadata": {
  "kernelspec": {
   "display_name": "Python 3",
   "language": "python",
   "name": "python3"
  },
  "language_info": {
   "codemirror_mode": {
    "name": "ipython",
    "version": 3
   },
   "file_extension": ".py",
   "mimetype": "text/x-python",
   "name": "python",
   "nbconvert_exporter": "python",
   "pygments_lexer": "ipython3",
   "version": "3.11.4"
  },
  "orig_nbformat": 4
 },
 "nbformat": 4,
 "nbformat_minor": 2
}
